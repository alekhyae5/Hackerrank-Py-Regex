{
  "nbformat": 4,
  "nbformat_minor": 0,
  "metadata": {
    "colab": {
      "provenance": []
    },
    "kernelspec": {
      "name": "python3",
      "display_name": "Python 3"
    },
    "language_info": {
      "name": "python"
    }
  },
  "cells": [
    {
      "cell_type": "code",
      "execution_count": null,
      "metadata": {
        "id": "4bn-EHKsiNpu"
      },
      "outputs": [],
      "source": [
        "import re\n",
        "n=int(input())\n",
        "for i in range(n):\n",
        "    ts=input()\n",
        "    regex='^[+-.]?[0-9]*[.][0-9]+$'\n",
        "    if(re.search(regex,ts)):\n",
        "        print('True')\n",
        "    else:\n",
        "        print('False')"
      ]
    },
    {
      "cell_type": "code",
      "source": [
        "regex_pattern = r\"[,.]\""
      ],
      "metadata": {
        "id": "ZjZs5JpdkP1Q"
      },
      "execution_count": null,
      "outputs": []
    },
    {
      "cell_type": "code",
      "source": [
        "import re\n",
        "m=re.search(r'([a-zA-Z0-9])\\1{1,}',input())\n",
        "if m:\n",
        "    print(m.group(1))\n",
        "else:\n",
        "    print('-1')"
      ],
      "metadata": {
        "id": "rbtgSWPIkVtc"
      },
      "execution_count": null,
      "outputs": []
    },
    {
      "cell_type": "code",
      "source": [
        "import re\n",
        "regex='(?<=[QWRTYPSDFGHJKLZXCVBNMqwrtypsdfghjklzxcvbnm])([AEIOUaeiou]{2,})(?=[QWRTYPSDFGHJKLZXCVBNMqwrtypsdfghjklzxcvbnm])'\n",
        "lst=re.findall(regex,input())\n",
        "if(len(lst)==0):\n",
        "    print(-1)\n",
        "else:\n",
        "    for i in lst:\n",
        "        print(i)"
      ],
      "metadata": {
        "id": "sZxX9Pa5ka5n"
      },
      "execution_count": null,
      "outputs": []
    },
    {
      "cell_type": "code",
      "source": [
        "import re\n",
        "S = input()\n",
        "k = input()\n",
        "anymatch = 'No'\n",
        "for m in re.finditer(r'(?=('+k+'))',S):\n",
        "    anymatch = 'Yes'\n",
        "    print((m.start(1),m.end(1)-1))\n",
        "if anymatch == 'No':\n",
        "    print((-1, -1))"
      ],
      "metadata": {
        "id": "DZRtdCEZkgWT"
      },
      "execution_count": null,
      "outputs": []
    },
    {
      "cell_type": "code",
      "source": [
        "import re\n",
        "n=int(input())\n",
        "for i in range(n):\n",
        "    line=input()\n",
        "    line=re.sub(\"(?<= )&&(?= )\", \"and\", line)\n",
        "    line=re.sub(\"(?<= )\\|\\|(?= )\", \"or\", line)\n",
        "    print(line)"
      ],
      "metadata": {
        "id": "AZ0V4sAykkwn"
      },
      "execution_count": null,
      "outputs": []
    },
    {
      "cell_type": "code",
      "source": [
        "regex_pattern = r\"^(M{0,3})(CM|CD|D?C{0,3})(XC|XL|L?X{0,3})(IX|IV|V?I{0,3})$\"\t# Do not delete 'r'.\n",
        "\n",
        "import re\n",
        "print(str(bool(re.match(regex_pattern, input()))))"
      ],
      "metadata": {
        "id": "sMev_hykkq9l"
      },
      "execution_count": null,
      "outputs": []
    },
    {
      "cell_type": "code",
      "source": [
        "import re\n",
        "n=int(input())\n",
        "for i in range(n):\n",
        "    num=input()\n",
        "    regex='^[789][0-9]{9}$'\n",
        "    m=re.search(regex,num)\n",
        "    if m:\n",
        "        print('YES')\n",
        "    else:\n",
        "        print('NO')"
      ],
      "metadata": {
        "id": "bFFNQTB1kwTn"
      },
      "execution_count": null,
      "outputs": []
    },
    {
      "cell_type": "code",
      "source": [
        "import re\n",
        "for i in range(int(input())):\n",
        "    name, email = input().split()\n",
        "    print(f\"{name} {email}\") if bool(re.search(r\"^[a-zA-Z][a-zA-Z-._0-9]*@[a-zA-Z]+\\.[a-zA-Z]{1,3}$\",email[1:len(email)-1])) else None"
      ],
      "metadata": {
        "id": "o8C8zPMAk1OE"
      },
      "execution_count": null,
      "outputs": []
    },
    {
      "cell_type": "code",
      "source": [
        "import re\n",
        "n=int(input())\n",
        "for i in range(n):\n",
        "    s=input()\n",
        "    c=re.findall('#[0-9a-fA-F]{6}|#[0-9a-fA-F]{3}',s)\n",
        "    if(len(c)!=0 and s[0]!='#'):\n",
        "        for i in c:\n",
        "            print(i)"
      ],
      "metadata": {
        "id": "vF9F2a6Zk6xQ"
      },
      "execution_count": null,
      "outputs": []
    },
    {
      "cell_type": "code",
      "source": [
        "N=int(input())\n",
        "from html.parser import HTMLParser\n",
        "class myhtml(HTMLParser):\n",
        "    def handle_starttag(self, tag, attrs):\n",
        "        print(\"Start :\",tag)\n",
        "        if attrs:\n",
        "            for item in attrs:\n",
        "                print(\"->\",item[0],\">\",item[1])\n",
        "    def handle_endtag(self, tag):\n",
        "        print(\"End   :\",tag)\n",
        "    def handle_startendtag(self, tag, attrs):\n",
        "        print(\"Empty :\",tag)\n",
        "        if attrs:\n",
        "            for item in attrs:\n",
        "                print(\"->\",item[0],\">\",item[1])\n",
        "parser = myhtml()\n",
        "for _ in range(N):\n",
        "    parser.feed(input())"
      ],
      "metadata": {
        "id": "8AEHzTV_k_YH"
      },
      "execution_count": null,
      "outputs": []
    },
    {
      "cell_type": "code",
      "source": [
        "from html.parser import HTMLParser\n",
        "\n",
        "class MyHTMLParser(HTMLParser):\n",
        "    def handle_data(self, data):\n",
        "        if not data.strip() == '':\n",
        "            print(\">>> Data\" + '\\n' + data)\n",
        "    def handle_comment(self, data):\n",
        "        x = 'Multi-line' if '\\n' in data else 'Single-line'\n",
        "        print(f'>>> {x} Comment\\n' + data)\n",
        "  \n",
        "\n",
        "html = \"\"       \n",
        "for i in range(int(input())):\n",
        "    html += input().rstrip()\n",
        "    html += '\\n'\n",
        "    \n",
        "parser = MyHTMLParser()\n",
        "parser.feed(html)\n",
        "parser.close()"
      ],
      "metadata": {
        "id": "Gpd1H-h0lEjH"
      },
      "execution_count": null,
      "outputs": []
    },
    {
      "cell_type": "code",
      "source": [
        "from html.parser import HTMLParser\n",
        "class MyHTMLParser(HTMLParser):\n",
        "    def handle_starttag(self, tag, attrs):\n",
        "        print(tag)\n",
        "        if (len(attrs) > 0):\n",
        "            for attr in attrs:\n",
        "                print('->', attr[0], '>', attr[1])\n",
        "parser = MyHTMLParser()\n",
        "n=int(input())\n",
        "for i in range(n):\n",
        "    parser.feed(input())"
      ],
      "metadata": {
        "id": "FVuVlwnClPNN"
      },
      "execution_count": null,
      "outputs": []
    },
    {
      "cell_type": "code",
      "source": [
        "import re\n",
        "n=int(input())\n",
        "for i in range(n):\n",
        "    s=input()\n",
        "    if(len(s)!=10):\n",
        "        print('Invalid')\n",
        "    else:\n",
        "        if len(re.findall('[A-Z]',s))>=2 and len(re.findall('[0-9]',s))>=3 and len(re.findall(r'(.).*\\1',s))==0:  \n",
        "            print('Valid')\n",
        "        else:\n",
        "            print('Invalid')"
      ],
      "metadata": {
        "id": "dsYD3yVolSbf"
      },
      "execution_count": null,
      "outputs": []
    },
    {
      "cell_type": "code",
      "source": [
        "import re\n",
        "pattern_a = r'([\\d])\\1{1}-?\\1{2}'\n",
        "pattern_b = r'^[456]\\d{3}-?\\d{4}-?\\d{4}-?\\d{4}-?'\n",
        "n = int(input())\n",
        "for i in range(n):\n",
        "    string = input()\n",
        "    if not bool(re.fullmatch(pattern_b,string)):\n",
        "        print ('Invalid')\n",
        "    elif bool(re.search(pattern_a, string)):\n",
        "        print ('Invalid')\n",
        "    else:\n",
        "        print ('Valid')"
      ],
      "metadata": {
        "id": "y_2Gke9Fld0j"
      },
      "execution_count": null,
      "outputs": []
    },
    {
      "cell_type": "code",
      "source": [
        "regex_integer_in_range = r\"^[1-9]\\d{5}$\"\t# Do not delete 'r'.\n",
        "regex_alternating_repetitive_digit_pair = r\"(\\d)(?=.\\1)\"\t# Do not delete 'r'.\n",
        "\n",
        "\n",
        "import re\n",
        "P = input()\n",
        "\n",
        "print (bool(re.match(regex_integer_in_range, P)) \n",
        "and len(re.findall(regex_alternating_repetitive_digit_pair, P)) < 2)"
      ],
      "metadata": {
        "id": "ztaxP_nlliia"
      },
      "execution_count": null,
      "outputs": []
    },
    {
      "cell_type": "code",
      "source": [
        "import math\n",
        "import os\n",
        "import random\n",
        "import re\n",
        "import sys\n",
        "\n",
        "\n",
        "\n",
        "\n",
        "first_multiple_input = input().rstrip().split()\n",
        "\n",
        "n = int(first_multiple_input[0])\n",
        "\n",
        "m = int(first_multiple_input[1])\n",
        "\n",
        "matrix = []\n",
        "\n",
        "for _ in range(n):\n",
        "    matrix_item = input()\n",
        "    matrix.append(matrix_item)\n",
        "\n",
        "transponded = \"\".join([matrix[j][i] for i in range(m) for j in range(n)])\n",
        "ending = re.search(\"[^a-zA-Z0-9]*$\", transponded).group()[1:]\n",
        "middle = re.sub(\"[^a-zA-Z0-9]+\", \" \", transponded).strip()\n",
        "begining = re.search(\"^[^a-zA-Z0-9]*\", transponded).group()[:-1]\n",
        "result = \"\"\n",
        "result += begining\n",
        "result += middle\n",
        "result += ending\n",
        "print(result)"
      ],
      "metadata": {
        "id": "K41HcF3RlmTv"
      },
      "execution_count": null,
      "outputs": []
    }
  ]
}